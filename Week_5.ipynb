{
 "cells": [
  {
   "cell_type": "markdown",
   "metadata": {},
   "source": [
    "# Week 4 handin"
   ]
  },
  {
   "cell_type": "markdown",
   "metadata": {},
   "source": [
    "## 01 Assignment\n",
    "\n",
    "## Ex1 Use data from Danmarks Statistik - Databanken\n",
    "1. Go to https://www.dst.dk/da/Statistik/brug-statistikken/muligheder-i-statistikbanken/api#testkonsol\n",
    "2. Open 'Konsol' and click 'Start Konsol'\n",
    "3. In the console at pt 1: choose 'Retrieve tables', pt 2: choose get request and json format and pt 3: execute:\n",
    "  1. check the result\n",
    "  2. in the code below this same get request is used to get information about all available data tables in 'databanken'. \n",
    "4. Change pt. 1 in the console to 'Retrieve data', pt 2: 'get request' and Table id: 'FOLK1A', format: csv, delimiter: semicolon and click: 'Variable and value codes' and choose some sub categories (Hint: hover over the codes to see their meaning). Finally execute and see what data you get.\n",
    "5. With data aggregation and data visualization answer the following questions:\n",
    "  1. What is the change in pct of divorced danes from 2008 to 2020?\n",
    "  2. Which of the 5 biggest cities has the highest percentage of 'Never Married' in 2020?\n",
    "  3. Show a bar chart of changes in marrital status in Copenhagen from 2008 till now\n",
    "  4. Show 2 plots in same figure: 'Married' and 'Never Married' for all ages in DK in 2020 (Hint: x axis is age from 0-125, y axis is how many people in the 2 categories). Add lengend to show names on graphs\n",
    "  \n",
    "## Ex2 Use another table (extra)\n",
    "Choose any of the other tables in 'databanken' to find interesting data.\n",
    "1. Collect the data\n",
    "2. Pose 5 or more interesing questions to the data\n",
    "3. Answer the questions by aggregating the data\n",
    "4. Illustrate the answers with visual plots"
   ]
  },
  {
   "cell_type": "markdown",
   "metadata": {},
   "source": [
    "## 02 Status"
   ]
  },
  {
   "cell_type": "markdown",
   "metadata": {},
   "source": [
    "## 03 Solution part 1"
   ]
  },
  {
   "cell_type": "code",
   "execution_count": 1,
   "metadata": {},
   "outputs": [],
   "source": [
    "import requests\n",
    "\n",
    "def download_csv_file_to_data(url, header_splitter, filename):\n",
    "    try:\n",
    "        response = requests.get(url)\n",
    "        fname = response.headers[header_splitter].split('=')[1]\n",
    "        fname = 'data/week5/'+filename+'.csv'\n",
    "\n",
    "        if response.ok:\n",
    "            with open(fname, 'wb') as f:\n",
    "                f.write(response.content)\n",
    "    except error:\n",
    "        print(\"Something went wrong.\", error)"
   ]
  },
  {
   "cell_type": "code",
   "execution_count": 2,
   "metadata": {},
   "outputs": [
    {
     "name": "stdout",
     "output_type": "stream",
     "text": [
      "Exercise 1.5.A - Procent stigning: 26.983845694672436\n"
     ]
    }
   ],
   "source": [
    "import pandas as pd\n",
    "import numpy as np\n",
    "import matplotlib.pyplot as plt\n",
    "\n",
    "# 1.1, 1.2, 1.3, 1.3.A, 1.3.B, 1.4\n",
    "# 1.5.A - What is the change in pct of divorced danes from 2008 to 2020?\n",
    "\n",
    "url_5a = \"https://api.statbank.dk/v1/data/FOLK1A/CSV?delimiter=Semicolon&Tid=2008K1%2C2020K1&CIVILSTAND=F\"\n",
    "filename_5a = \"divorced\"\n",
    "download_csv_file_to_data(url_5a, 'Content-Disposition', filename_5a)\n",
    "\n",
    "\n",
    "data_5a = pd.read_csv('data/week5/divorced.csv', delimiter=\";\")\n",
    "data_5a_indhold = data_5a['INDHOLD']\n",
    "percent = (((data_5a_indhold[1] - data_5a_indhold[0]) / data_5a_indhold[0]) * 100)\n",
    "\n",
    "print(\"Exercise 1.5.A - Procent stigning:\", percent)\n"
   ]
  },
  {
   "cell_type": "code",
   "execution_count": 36,
   "metadata": {},
   "outputs": [
    {
     "data": {
      "text/html": [
       "<div>\n",
       "<style scoped>\n",
       "    .dataframe tbody tr th:only-of-type {\n",
       "        vertical-align: middle;\n",
       "    }\n",
       "\n",
       "    .dataframe tbody tr th {\n",
       "        vertical-align: top;\n",
       "    }\n",
       "\n",
       "    .dataframe thead th {\n",
       "        text-align: right;\n",
       "    }\n",
       "</style>\n",
       "<table border=\"1\" class=\"dataframe\">\n",
       "  <thead>\n",
       "    <tr style=\"text-align: right;\">\n",
       "      <th></th>\n",
       "      <th>TID</th>\n",
       "      <th>CIVILSTAND</th>\n",
       "      <th>OMRÅDE</th>\n",
       "      <th>INDHOLD</th>\n",
       "    </tr>\n",
       "  </thead>\n",
       "  <tbody>\n",
       "    <tr>\n",
       "      <th>0</th>\n",
       "      <td>2020K4</td>\n",
       "      <td>I alt</td>\n",
       "      <td>Hele landet</td>\n",
       "      <td>5837213</td>\n",
       "    </tr>\n",
       "    <tr>\n",
       "      <th>1</th>\n",
       "      <td>2020K4</td>\n",
       "      <td>I alt</td>\n",
       "      <td>Region Hovedstaden</td>\n",
       "      <td>1854296</td>\n",
       "    </tr>\n",
       "    <tr>\n",
       "      <th>2</th>\n",
       "      <td>2020K4</td>\n",
       "      <td>I alt</td>\n",
       "      <td>København</td>\n",
       "      <td>637936</td>\n",
       "    </tr>\n",
       "    <tr>\n",
       "      <th>3</th>\n",
       "      <td>2020K4</td>\n",
       "      <td>I alt</td>\n",
       "      <td>Frederiksberg</td>\n",
       "      <td>104351</td>\n",
       "    </tr>\n",
       "    <tr>\n",
       "      <th>4</th>\n",
       "      <td>2020K4</td>\n",
       "      <td>I alt</td>\n",
       "      <td>Dragør</td>\n",
       "      <td>14497</td>\n",
       "    </tr>\n",
       "    <tr>\n",
       "      <th>...</th>\n",
       "      <td>...</td>\n",
       "      <td>...</td>\n",
       "      <td>...</td>\n",
       "      <td>...</td>\n",
       "    </tr>\n",
       "    <tr>\n",
       "      <th>205</th>\n",
       "      <td>2020K4</td>\n",
       "      <td>Ugift</td>\n",
       "      <td>Morsø</td>\n",
       "      <td>8721</td>\n",
       "    </tr>\n",
       "    <tr>\n",
       "      <th>206</th>\n",
       "      <td>2020K4</td>\n",
       "      <td>Ugift</td>\n",
       "      <td>Rebild</td>\n",
       "      <td>13736</td>\n",
       "    </tr>\n",
       "    <tr>\n",
       "      <th>207</th>\n",
       "      <td>2020K4</td>\n",
       "      <td>Ugift</td>\n",
       "      <td>Thisted</td>\n",
       "      <td>18597</td>\n",
       "    </tr>\n",
       "    <tr>\n",
       "      <th>208</th>\n",
       "      <td>2020K4</td>\n",
       "      <td>Ugift</td>\n",
       "      <td>Vesthimmerlands</td>\n",
       "      <td>15965</td>\n",
       "    </tr>\n",
       "    <tr>\n",
       "      <th>209</th>\n",
       "      <td>2020K4</td>\n",
       "      <td>Ugift</td>\n",
       "      <td>Aalborg</td>\n",
       "      <td>120226</td>\n",
       "    </tr>\n",
       "  </tbody>\n",
       "</table>\n",
       "<p>210 rows × 4 columns</p>\n",
       "</div>"
      ],
      "text/plain": [
       "        TID CIVILSTAND              OMRÅDE  INDHOLD\n",
       "0    2020K4      I alt         Hele landet  5837213\n",
       "1    2020K4      I alt  Region Hovedstaden  1854296\n",
       "2    2020K4      I alt           København   637936\n",
       "3    2020K4      I alt       Frederiksberg   104351\n",
       "4    2020K4      I alt              Dragør    14497\n",
       "..      ...        ...                 ...      ...\n",
       "205  2020K4      Ugift               Morsø     8721\n",
       "206  2020K4      Ugift              Rebild    13736\n",
       "207  2020K4      Ugift             Thisted    18597\n",
       "208  2020K4      Ugift     Vesthimmerlands    15965\n",
       "209  2020K4      Ugift             Aalborg   120226\n",
       "\n",
       "[210 rows x 4 columns]"
      ]
     },
     "execution_count": 36,
     "metadata": {},
     "output_type": "execute_result"
    }
   ],
   "source": [
    "# 1.5.B - Which of the 5 biggest cities has the highest percentage of 'Never Married' in 2020?\n",
    "\n",
    "# Download CSV for cities\n",
    "url_5b_1 = \"https://api.statbank.dk/v1/data/FOLK1A/CSV?delimiter=Semicolon&OMR%C3%85DE=*\"\n",
    "filename_5b_1 = \"cities\"\n",
    "download_csv_file_to_data(url_5b_1, 'Content-Disposition', filename_5b_1)\n",
    "\n",
    "# Find 5 biggest cities\n",
    "not_a_city = ['Hele landet', 'Region Hovedstaden', 'Region Midtjylland', 'Region Syddanmark', 'Region Sjælland', \n",
    "              'Region Nordjylland']\n",
    "data_5b_1 = pd.read_csv('data/week5/cities.csv', delimiter=\";\")\n",
    "data_5b_1 = data_5b_1.set_index('OMRÅDE')['INDHOLD'].sort_values(ascending=False)\n",
    "five_biggest_cities = data_5b_1.drop(data_5b_1[data_5b_1.index.isin(not_a_city)].index)[:5]\n",
    "\n",
    "# Download CSV for married status\n",
    "url_5b_2 = \"https://api.statbank.dk/v1/data/FOLK1A/CSV?delimiter=Semicolon&Tid=2020K4&CIVILSTAND=TOT%2CU&OMR%C3%85DE=*\"\n",
    "filename_5b_2 = \"married_status\"\n",
    "download_csv_file_to_data(url_5b_2, 'Content-Disposition', filename_5b_2)\n",
    "\n",
    "# Find 'Never Married' based on 5 biggest cities\n",
    "data_5b_2 = pd.read_csv('data/week5/married_status.csv', delimiter=\";\")\n",
    "data_5b_2\n"
   ]
  }
 ],
 "metadata": {
  "kernelspec": {
   "display_name": "Python 3",
   "language": "python",
   "name": "python3"
  },
  "language_info": {
   "codemirror_mode": {
    "name": "ipython",
    "version": 3
   },
   "file_extension": ".py",
   "mimetype": "text/x-python",
   "name": "python",
   "nbconvert_exporter": "python",
   "pygments_lexer": "ipython3",
   "version": "3.7.6"
  }
 },
 "nbformat": 4,
 "nbformat_minor": 4
}
