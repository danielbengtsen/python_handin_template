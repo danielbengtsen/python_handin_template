{
 "cells": [
  {
   "cell_type": "markdown",
   "metadata": {},
   "source": [
    "# Week 6 handin"
   ]
  },
  {
   "cell_type": "markdown",
   "metadata": {},
   "source": [
    "## 01 Assignment\n",
    "\n",
    "# Handin Exercise 6\n",
    "\n",
    "### Ex 1\n",
    "Create a module containing a class: TextComparer with the following methods:\n",
    "1. __init__(self, url_list)\n",
    "2. download(url,filename) raises NotFoundException when url returns 404\n",
    "3. multi_download() uses threads to download multiple urls as text and stores filenames as a property\n",
    "4. __iter__() returns an iterator\n",
    "5. __next__() returns the next filename (and stops when there are no more)\n",
    "6. urllist_generator() returns a generator to loop through the urls\n",
    "7. avg_vowels(text) - a rough estimate on readability returns average number of vowels in the words of the text\n",
    "8. hardest_read() returns the filename of the text with the highest vowel score (use all the cpu cores on the computer for this work.\n",
    "\n",
    "### Ex 2\n",
    "Create a notebook and import your module from above\n",
    "1. Find 10 books on https://www.gutenberg.org/browse/scores/top and download them using an object of the class you just created before\n",
    "2. Test the different methods of your class\n",
    "3. Make a bar plot with a sorted list of books on x-axis and avg vowels on y-axis"
   ]
  },
  {
   "cell_type": "markdown",
   "metadata": {},
   "source": [
    "## 02 Status\n",
    "Under arbejde..."
   ]
  },
  {
   "cell_type": "markdown",
   "metadata": {},
   "source": [
    "## 03 Solution"
   ]
  },
  {
   "cell_type": "markdown",
   "metadata": {},
   "source": [
    "### Ex 1"
   ]
  },
  {
   "cell_type": "code",
   "execution_count": 1,
   "metadata": {},
   "outputs": [],
   "source": [
    "# See the modules folder"
   ]
  },
  {
   "cell_type": "markdown",
   "metadata": {},
   "source": [
    "### Ex 2"
   ]
  },
  {
   "cell_type": "code",
   "execution_count": 2,
   "metadata": {},
   "outputs": [
    {
     "name": "stdout",
     "output_type": "stream",
     "text": [
      "\n",
      "Now testing \"__iter__() and __next__()\"...\n",
      "11-0.txt\n",
      "74-0.txt\n",
      "730-0.txt\n",
      "4363.txt.utf-8\n",
      "84-0.txt\n",
      "35-0.txt\n",
      "42108-0.txt\n",
      "6130-0.txt\n",
      "16-0.txt\n",
      "160-0.txt\n",
      "Successful test: __iter__() and __next__()\n"
     ]
    }
   ],
   "source": [
    "import sys\n",
    "sys.path.append('modules')\n",
    "\n",
    "from text_comparer import TextComparer\n",
    "\n",
    "# Exercse 1:\n",
    "\n",
    "\n",
    "url_list = [\"https://www.gutenberg.org/files/11/11-0.txt\", \"https://www.gutenberg.org/files/74/74-0.txt\", \n",
    "            \"https://www.gutenberg.org/files/730/730-0.txt\", \"https://www.gutenberg.org/ebooks/4363.txt.utf-8\", \n",
    "            \"https://www.gutenberg.org/files/84/84-0.txt\", \"https://www.gutenberg.org/files/35/35-0.txt\", \n",
    "            \"https://www.gutenberg.org/files/42108/42108-0.txt\", \"https://www.gutenberg.org/files/6130/6130-0.txt\", \n",
    "            \"https://www.gutenberg.org/files/16/16-0.txt\", \"https://www.gutenberg.org/files/160/160-0.txt\"]\n",
    "\n",
    "tc = TextComparer(url_list)\n",
    "\n",
    "# Test \"download()\" method from TextComparer\n",
    "\"\"\"\n",
    "try:\n",
    "    print(\"Now testing \\\"download()\\\"...\")\n",
    "    tc.download('https://www.gutenberg.org/files/219/219-0.txt', 'my_book.txt')\n",
    "except:\n",
    "    print(\"Failed test: download()\")\n",
    "finally:\n",
    "    print(\"Successful test: download()\")\n",
    "\"\"\"\n",
    "    \n",
    "# Test \"multi_download()\" method from TextComparer\n",
    "\"\"\"\n",
    "try: \n",
    "    print(\"\\nNow testing \\\"multi_download()\\\"...\")\n",
    "    tc.multi_download()\n",
    "except:\n",
    "    print(\"Failed test: multi_download()\")\n",
    "finally:\n",
    "    print(\"Successful test: multi_download()\")\n",
    "\"\"\"\n",
    "\n",
    "# Test \"__iter__() and __next__()\" methods from TextComparer\n",
    "try:\n",
    "    print(\"\\nNow testing \\\"__iter__() and __next__()\\\"...\")\n",
    "    tc_iter = iter(tc)\n",
    "    count = 0\n",
    "    for element in tc_iter:\n",
    "        print(element)\n",
    "        count += 1\n",
    "    if count != len(tc.url_list):\n",
    "        print(\"Failed test: __iter__() and __next__() on elements\")\n",
    "except:\n",
    "    print(\"Failed test: __iter__() and __next__()\")\n",
    "finally:\n",
    "    print(\"Successful test: __iter__() and __next__()\")"
   ]
  }
 ],
 "metadata": {
  "kernelspec": {
   "display_name": "Python 3",
   "language": "python",
   "name": "python3"
  },
  "language_info": {
   "codemirror_mode": {
    "name": "ipython",
    "version": 3
   },
   "file_extension": ".py",
   "mimetype": "text/x-python",
   "name": "python",
   "nbconvert_exporter": "python",
   "pygments_lexer": "ipython3",
   "version": "3.7.6"
  }
 },
 "nbformat": 4,
 "nbformat_minor": 4
}
