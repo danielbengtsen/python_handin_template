{
 "cells": [
  {
   "cell_type": "markdown",
   "metadata": {},
   "source": [
    "# Week 4 handin"
   ]
  },
  {
   "cell_type": "markdown",
   "metadata": {},
   "source": [
    "## 01 Assignment\n",
    "\n",
    "## Ex1 Use data from Danmarks Statistik - Databanken\n",
    "1. Go to https://www.dst.dk/da/Statistik/brug-statistikken/muligheder-i-statistikbanken/api#testkonsol\n",
    "2. Open 'Konsol' and click 'Start Konsol'\n",
    "3. In the console at pt 1: choose 'Retrieve tables', pt 2: choose get request and json format and pt 3: execute:\n",
    "  1. check the result\n",
    "  2. in the code below this same get request is used to get information about all available data tables in 'databanken'. \n",
    "4. Change pt. 1 in the console to 'Retrieve data', pt 2: 'get request' and Table id: 'FOLK1A', format: csv, delimiter: semicolon and click: 'Variable and value codes' and choose some sub categories (Hint: hover over the codes to see their meaning). Finally execute and see what data you get.\n",
    "5. With data aggregation and data visualization answer the following questions:\n",
    "  1. What is the change in pct of divorced danes from 2008 to 2020?\n",
    "  2. Which of the 5 biggest cities has the highest percentage of 'Never Married' in 2020?\n",
    "  3. Show a bar chart of changes in marrital status in Copenhagen from 2008 till now\n",
    "  4. Show 2 plots in same figure: 'Married' and 'Never Married' for all ages in DK in 2020 (Hint: x axis is age from 0-125, y axis is how many people in the 2 categories). Add lengend to show names on graphs\n",
    "  \n",
    "## Ex2 Use another table (extra)\n",
    "Choose any of the other tables in 'databanken' to find interesting data.\n",
    "1. Collect the data\n",
    "2. Pose 5 or more interesing questions to the data\n",
    "3. Answer the questions by aggregating the data\n",
    "4. Illustrate the answers with visual plots"
   ]
  },
  {
   "cell_type": "markdown",
   "metadata": {},
   "source": [
    "## 02 Status"
   ]
  },
  {
   "cell_type": "markdown",
   "metadata": {},
   "source": [
    "## 03 Solution part 1"
   ]
  },
  {
   "cell_type": "code",
   "execution_count": 1,
   "metadata": {},
   "outputs": [],
   "source": [
    "import requests\n",
    "\n",
    "def download_csv_file_to_data(url, header_splitter, filename):\n",
    "    try:\n",
    "        response = requests.get(url)\n",
    "        fname = response.headers[header_splitter].split('=')[1]\n",
    "        fname = 'data/week5/'+filename+'.csv'\n",
    "\n",
    "        if response.ok:\n",
    "            with open(fname, 'wb') as f:\n",
    "                f.write(response.content)\n",
    "    except error:\n",
    "        print(\"Something went wrong.\", error)"
   ]
  },
  {
   "cell_type": "code",
   "execution_count": 2,
   "metadata": {},
   "outputs": [],
   "source": [
    "def calc_percent_difference(new_value, old_value):\n",
    "    return (((new_value-old_value) / old_value) * 100)\n",
    "\n",
    "def calc_percent_of(new_value, old_value):\n",
    "    return ((old_value/new_value) * 100)"
   ]
  },
  {
   "cell_type": "code",
   "execution_count": 3,
   "metadata": {},
   "outputs": [],
   "source": [
    "def calc_two_matched_columns(df_1, df_2, column_name):\n",
    "    data_list = []\n",
    "    for i in range(0, len(df_1)):\n",
    "        data_list.append([calc_percent_of(df_1[column_name][i], df_2[column_name][i])])\n",
    "    return data_list"
   ]
  },
  {
   "cell_type": "code",
   "execution_count": 4,
   "metadata": {},
   "outputs": [
    {
     "name": "stdout",
     "output_type": "stream",
     "text": [
      "Exercise 1.5.A - Procent stigning: 26.983845694672436\n"
     ]
    }
   ],
   "source": [
    "import pandas as pd\n",
    "import numpy as np\n",
    "\n",
    "# 1.1, 1.2, 1.3, 1.3.A, 1.3.B, 1.4\n",
    "# 1.5.A - What is the change in pct of divorced danes from 2008 to 2020?\n",
    "\n",
    "url_5a = \"https://api.statbank.dk/v1/data/FOLK1A/CSV?delimiter=Semicolon&Tid=2008K1%2C2020K1&CIVILSTAND=F\"\n",
    "filename_5a = \"divorced\"\n",
    "download_csv_file_to_data(url_5a, 'Content-Disposition', filename_5a)\n",
    "\n",
    "\n",
    "data_5a = pd.read_csv('data/week5/divorced.csv', delimiter=\";\")\n",
    "data_5a_indhold = data_5a['INDHOLD']\n",
    "percent = calc_percent_difference(data_5a_indhold[1], data_5a_indhold[0])\n",
    "\n",
    "print(\"Exercise 1.5.A - Procent stigning:\", percent)\n"
   ]
  },
  {
   "cell_type": "code",
   "execution_count": 5,
   "metadata": {},
   "outputs": [
    {
     "name": "stdout",
     "output_type": "stream",
     "text": [
      "Exercise 1.5.B - Procent aldrig gift af de 5 største byer:\n"
     ]
    },
    {
     "data": {
      "text/html": [
       "<div>\n",
       "<style scoped>\n",
       "    .dataframe tbody tr th:only-of-type {\n",
       "        vertical-align: middle;\n",
       "    }\n",
       "\n",
       "    .dataframe tbody tr th {\n",
       "        vertical-align: top;\n",
       "    }\n",
       "\n",
       "    .dataframe thead th {\n",
       "        text-align: right;\n",
       "    }\n",
       "</style>\n",
       "<table border=\"1\" class=\"dataframe\">\n",
       "  <thead>\n",
       "    <tr style=\"text-align: right;\">\n",
       "      <th></th>\n",
       "      <th>Percent</th>\n",
       "    </tr>\n",
       "    <tr>\n",
       "      <th>OMRÅDE</th>\n",
       "      <th></th>\n",
       "    </tr>\n",
       "  </thead>\n",
       "  <tbody>\n",
       "    <tr>\n",
       "      <th>København</th>\n",
       "      <td>65.489642</td>\n",
       "    </tr>\n",
       "    <tr>\n",
       "      <th>Aarhus</th>\n",
       "      <td>59.942282</td>\n",
       "    </tr>\n",
       "    <tr>\n",
       "      <th>Odense</th>\n",
       "      <td>55.196448</td>\n",
       "    </tr>\n",
       "    <tr>\n",
       "      <th>Aalborg</th>\n",
       "      <td>54.820118</td>\n",
       "    </tr>\n",
       "    <tr>\n",
       "      <th>Vejle</th>\n",
       "      <td>47.242961</td>\n",
       "    </tr>\n",
       "  </tbody>\n",
       "</table>\n",
       "</div>"
      ],
      "text/plain": [
       "             Percent\n",
       "OMRÅDE              \n",
       "København  65.489642\n",
       "Aarhus     59.942282\n",
       "Odense     55.196448\n",
       "Aalborg    54.820118\n",
       "Vejle      47.242961"
      ]
     },
     "execution_count": 5,
     "metadata": {},
     "output_type": "execute_result"
    }
   ],
   "source": [
    "# 1.5.B - Which of the 5 biggest cities has the highest percentage of 'Never Married' in 2020?\n",
    "\n",
    "# Download CSV for cities\n",
    "url_5b_1 = \"https://api.statbank.dk/v1/data/FOLK1A/CSV?delimiter=Semicolon&OMR%C3%85DE=*\"\n",
    "filename_5b_1 = \"cities\"\n",
    "download_csv_file_to_data(url_5b_1, 'Content-Disposition', filename_5b_1)\n",
    "\n",
    "# Find 5 biggest cities\n",
    "not_a_city = ['Hele landet', 'Region Hovedstaden', 'Region Midtjylland', 'Region Syddanmark', 'Region Sjælland', \n",
    "              'Region Nordjylland']\n",
    "data_5b_1 = pd.read_csv('data/week5/cities.csv', delimiter=\";\")\n",
    "data_5b_1 = data_5b_1.set_index('OMRÅDE').sort_values(by=['INDHOLD'], ascending=False)\n",
    "five_biggest_cities = data_5b_1.drop(data_5b_1[data_5b_1.index.isin(not_a_city)].index)[:5]\n",
    "\n",
    "# Download CSV for married status\n",
    "url_5b_2 = \"https://api.statbank.dk/v1/data/FOLK1A/CSV?delimiter=Semicolon&Tid=2020K4&CIVILSTAND=TOT%2CU&OMR%C3%85DE=*\"\n",
    "filename_5b_2 = \"married_status\"\n",
    "download_csv_file_to_data(url_5b_2, 'Content-Disposition', filename_5b_2)\n",
    "\n",
    "# Find 'Never Married' based on 5 biggest cities\n",
    "data_5b_2 = pd.read_csv('data/week5/married_status.csv', delimiter=\";\")\n",
    "data_5b_2 = data_5b_2.drop(data_5b_2[data_5b_2['OMRÅDE'].isin(five_biggest_cities.index) == False].index).set_index('OMRÅDE')\n",
    "data_5b_2_halflength = int((len(data_5b_2)/2))\n",
    "data_5b_2_all = data_5b_2.iloc[:data_5b_2_halflength, :]\n",
    "data_5b_2_notmarried = data_5b_2.iloc[data_5b_2_halflength:, :]\n",
    "never_married_percent = pd.DataFrame(index=data_5b_2_all.index, columns=['Percent'], \n",
    "                    data=calc_two_matched_columns(data_5b_2_all, data_5b_2_notmarried, 'INDHOLD')).sort_values(by='Percent', ascending=False)\n",
    "print(\"Exercise 1.5.B - Procent aldrig gift af de 5 største byer:\")\n",
    "never_married_percent"
   ]
  },
  {
   "cell_type": "code",
   "execution_count": 67,
   "metadata": {},
   "outputs": [
    {
     "data": {
      "image/png": "[encoded data removed]",
      "text/plain": [
       "<Figure size 1440x720 with 1 Axes>"
      ]
     },
     "metadata": {
      "needs_background": "light"
     },
     "output_type": "display_data"
    }
   ],
   "source": [
    "import matplotlib.pyplot as plt\n",
    "\n",
    "# Exercise 1.5.C - Show a bar chart of changes in marrital status in Copenhagen from 2008 till now\n",
    "\n",
    "# Download CSV for marriage statuses\n",
    "url_5c = \"https://api.statbank.dk/v1/data/FOLK1A/CSV?delimiter=Semicolon&Tid=*&CIVILSTAND=U%2CG%2CE%2CF\"\n",
    "filename_5c = \"marriage_status\"\n",
    "download_csv_file_to_data(url_5c, 'Content-Disposition', filename_5c)\n",
    "\n",
    "#Create different DataFrames\n",
    "sorting_dict = {'married': 'Gift/separeret', 'not_married': 'Ugift', 'widow': 'Enke/enkemand', 'divorced': 'Fraskilt'}\n",
    "data_5c = pd.read_csv('data/week5/marriage_status.csv', delimiter=\";\")\n",
    "data_5c_married = data_5c[data_5c['CIVILSTAND'] == sorting_dict['married']]\n",
    "data_5c_notmarried = data_5c[data_5c['CIVILSTAND'] == sorting_dict['not_married']]\n",
    "data_5c_widow = data_5c[data_5c['CIVILSTAND'] == sorting_dict['widow']]\n",
    "data_5c_divorced = data_5c[data_5c['CIVILSTAND'] == sorting_dict['divorced']]\n",
    "\n",
    "x = np.arange(4)\n",
    "fig, ax = plt.subplots(figsize=(20,10))\n",
    "ax.bar(data_5c_married['TID'], data_5c_married['INDHOLD'], label=sorting_dict['married'], width=0.2)\n",
    "ax.bar(data_5c_notmarried['TID'], data_5c_notmarried['INDHOLD'], label=sorting_dict['not_married'], width=0.2)\n",
    "ax.bar(data_5c_widow['TID'], data_5c_widow['INDHOLD'], label=sorting_dict['widow'], width=0.2)\n",
    "ax.bar(data_5c_divorced['TID'], data_5c_divorced['INDHOLD'], label=sorting_dict['divorced'], width=0.2)\n",
    "ax.set_ylabel('Antal')\n",
    "ax.set_xticks(data_5c['TID'])\n",
    "ax.set_xticklabels(data_5c['TID'], rotation=65)\n",
    "ax.legend()\n",
    "fig.tight_layout()\n",
    "plt.show()\n",
    "\n"
   ]
  },
  {
   "cell_type": "code",
   "execution_count": 7,
   "metadata": {},
   "outputs": [],
   "source": [
    "# Exercise 1.5.D - Show 2 plots in same figure: 'Married' and 'Never Married' for all ages in DK in 2020 \n",
    "    # (Hint: x axis is age from 0-125, y axis is how many people in the 2 categories). Add lengend to show names on graphs\n"
   ]
  }
 ],
 "metadata": {
  "kernelspec": {
   "display_name": "Python 3",
   "language": "python",
   "name": "python3"
  },
  "language_info": {
   "codemirror_mode": {
    "name": "ipython",
    "version": 3
   },
   "file_extension": ".py",
   "mimetype": "text/x-python",
   "name": "python",
   "nbconvert_exporter": "python",
   "pygments_lexer": "ipython3",
   "version": "3.7.6"
  }
 },
 "nbformat": 4,
 "nbformat_minor": 4
}
