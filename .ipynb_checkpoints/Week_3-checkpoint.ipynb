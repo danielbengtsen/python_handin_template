{
 "cells": [
  {
   "cell_type": "markdown",
   "metadata": {},
   "source": [
    "# Week 3 handin"
   ]
  },
  {
   "cell_type": "markdown",
   "metadata": {},
   "source": [
    "## 01 Assignment\n",
    "\n",
    "# Exercise for the 3rd course week\n",
    "\n",
    "## Ex 1 Classes\n",
    "1. Create 3 classes: Student, DataSheet and Course\n",
    "2. A student has a data_sheet and a data_sheet has multiple courses in particular order\n",
    "3. Each course has name, classroom, teacher, ETCS and optional grade if course is taken.\n",
    "4. In Student create __init__() so that a Student can be initiated with name, gender, data_sheet and image_url\n",
    "5. In DataSheet create a method to get_grades_as_list()\n",
    "6. In student create a method: get_avg_grade()\n",
    "7. Create a function that can generate n number of students with random: name, gender, courses (from a fixed list of course names), grades, img_url\n",
    "   1. Let the function write the result to a csv file with format stud_name, course_name, teacher, ects, classroom, grade, img_url\n",
    "7. Read student data into a list of Students from a csv file: \n",
    "   1. loop through the list and print each student with name, img_url and avg_grade.\n",
    "   2. sort the list by avg_grade\n",
    "   3. create a bar chart with student_name on x and avg_grade on y-axis\n",
    "8. Make a method on Student class that can show progression of the study in % (add up ECTS from all passed courses divided by total of 150 total points (equivalent to 5 semesters))\n",
    "9. Show a bar chart of distribution of study progression on x-axis and number of students in each category on y-axis. (e.g. make 10 categories from 0-100%)\n",
    "\n",
    "Extra: Make the Datasheet class iterable so that next(data_sheet) will return the next course in the list\n",
    "\n",
    "## Ex 2 Exceptions (extra)\n",
    "1. Create a function that can take a list of students and return the 3 students closest to completing their study.\n",
    "2. If list is shorter than 3 raise your own custom exception (NotEnoughStudentsException)\n",
    "3. Create another function that can create a csv file with 3 students closest to completion\n",
    "   1. If an exception is raised write an appropriate message to the file\n",
    "\n",
    "## Ex 3 Plotting (extra)\n",
    "1. Create a function that can take a list of students and show a pie chart of how students are distributed in ECTS percentage categories (10%, 20%, ...)\n",
    "2. create a function that can take a list of students and show how many students have taken each course (bar chart)\n",
    "   1. create a method on student that can return a list of courses\n",
    "3. make the figure show males and females in different colors for each course (display 2 datasets in same figure)"
   ]
  },
  {
   "cell_type": "markdown",
   "metadata": {},
   "source": [
    "## 02 Status\n",
    "Here is a status on the handin. How far you got. What is implemented and what is not"
   ]
  },
  {
   "cell_type": "markdown",
   "metadata": {},
   "source": [
    "## 03 Solution part 1"
   ]
  },
  {
   "cell_type": "code",
   "execution_count": 1,
   "metadata": {},
   "outputs": [],
   "source": [
    "# Exercise 1"
   ]
  },
  {
   "cell_type": "code",
   "execution_count": 8,
   "metadata": {},
   "outputs": [
    {
     "name": "stdout",
     "output_type": "stream",
     "text": [
      "Exercise 1.5: [12, 10, 7]\n",
      "Exercise 1.6: 9.666666666666666\n",
      "Exercise 1.7: \n",
      "\t- Name: Stine Hansen \n",
      "\t- Gender: Male \n",
      "\t- Courses: [[Name: App Development, Classroom: 1.A, Teacher: Anna Sørensen, ETCS: Anna Sørensen, Grade: 4], [Name: Hacking, Classroom: 1.B, Teacher: Anna Gad, ETCS: Anna Gad, Grade: 10]] \n",
      "\t- Image url: https://st2.depositphotos.com/1009634/7235/v/600/depositphotos_72350117-stock-illustration-no-user-profile-picture-hand.jpg\n",
      "Exercise 1.8.A/1.8.B: [['Stine Hansen', 'https://st2.depositphotos.com/1009634/7235/v/600/depositphotos_72350117-stock-illustration-no-user-profile-picture-hand.jpg', 7.0], ['Bent Nielsen', 'https://i.pinimg.com/474x/ce/2a/95/ce2a95e99faceaf7af19c273b10ebcc1.jpg', 6.0]]\n",
      "Exercise 1.8.C: None\n"
     ]
    },
    {
     "data": {
      "image/png": "[encoded data removed]",
      "text/plain": [
       "<Figure size 432x288 with 1 Axes>"
      ]
     },
     "metadata": {
      "needs_background": "light"
     },
     "output_type": "display_data"
    }
   ],
   "source": [
    "import random\n",
    "import csv\n",
    "from operator import itemgetter\n",
    "import matplotlib.pyplot as plt\n",
    "\n",
    "class Student():\n",
    "    def __init__(self, name, gender, data_sheet, image_url):\n",
    "        self.name = name\n",
    "        self.gender = gender\n",
    "        self.data_sheet = data_sheet\n",
    "        self.image_url = image_url\n",
    "    \n",
    "    def get_average_grade(self):\n",
    "        result = 0\n",
    "        grades = self.data_sheet.get_grades_as_list()\n",
    "        for grade in grades:\n",
    "            result += grade\n",
    "        result /= len(grades)\n",
    "        return result\n",
    "\n",
    "class DataSheet():\n",
    "    def __init__(self, courses=[]):\n",
    "        self.courses = courses\n",
    "    \n",
    "    def get_grades_as_list(self):\n",
    "        grades = []\n",
    "        for course in self.courses:\n",
    "            grades.append(course.grade)\n",
    "        return grades\n",
    "\n",
    "class Course():\n",
    "    def __init__(self, name, classroom, teacher, etcs, grade=None):\n",
    "        self.name = name\n",
    "        self.classroom = classroom\n",
    "        self.teacher = teacher\n",
    "        self.etcs = etcs\n",
    "        if grade is not None:\n",
    "            self.grade = grade\n",
    "    \n",
    "    def __str__(self):\n",
    "        if self.grade is not None:\n",
    "            return '[Name: ' + str(self.name) + \", Classroom: \" + str(self.classroom) + \", Teacher: \" + str(self.teacher) + \", ETCS: \" + str(self.teacher) + \", Grade: \" + str(self.grade) + \"]\"\n",
    "        else:\n",
    "            return '[Name: ' + str(self.name) + \", Classroom: \" + str(self.classroom) + \", Teacher: \" + str(self.teacher) + \", ETCS: \" + str(self.teacher) + \"]\"\n",
    "\n",
    "    def __repr__(self):\n",
    "        return self.__str__()\n",
    "        \n",
    "def create_random_student():\n",
    "    random_names = ['Carl Madsen', 'Bent Nielsen', 'Ulla Carlsen', 'Stine Hansen']\n",
    "    random_gender = ['Male', 'Female']\n",
    "    random_grades = [0, 2, 4, 7, 10, 12]\n",
    "    random_courses = [Course(\"App Development\", \"1.A\", \"Anna Sørensen\", 10, random.choice(random_grades)), Course(\"Reading\", \"1.C\", \"Hans Talbot\", 10, random.choice(random_grades)), Course(\"Hacking\", \"1.B\", \"Anna Gad\", 15, random.choice(random_grades))]\n",
    "    random_image_url = ['https://cdn3.f-cdn.com/contestentries/1376995/30494909/5b566bc71d308_thumb900.jpg', 'https://st2.depositphotos.com/1009634/7235/v/600/depositphotos_72350117-stock-illustration-no-user-profile-picture-hand.jpg', 'https://i.pinimg.com/474x/ce/2a/95/ce2a95e99faceaf7af19c273b10ebcc1.jpg']\n",
    "    \n",
    "    random_student = Student(random.choice(random_names), random.choice(random_gender), DataSheet([random.choice(random_courses), random.choice(random_courses)]), random.choice(random_image_url))\n",
    "    \n",
    "    random_student_coursenames = []\n",
    "    random_student_teachers = []\n",
    "    random_student_classrooms = []\n",
    "    random_student_etcs = []\n",
    "    random_student_grades = []\n",
    "    \n",
    "    for course in random_student.data_sheet.courses:\n",
    "        random_student_coursenames.append(course.name)\n",
    "        random_student_teachers.append(course.teacher)\n",
    "        random_student_classrooms.append(course.classroom)\n",
    "        random_student_etcs.append(course.etcs)\n",
    "        random_student_grades.append(course.grade)\n",
    "    \n",
    "    random_student_coursenames = list_to_csv(random_student_coursenames)\n",
    "    random_student_teachers = list_to_csv(random_student_teachers)\n",
    "    random_student_classrooms = list_to_csv(random_student_classrooms)\n",
    "    random_student_etcs = list_to_csv(random_student_etcs)\n",
    "    random_student_grades = list_to_csv(random_student_grades)\n",
    "    \n",
    "    with open('data/random_student.csv', 'w', newline='') as csv_file:\n",
    "        csv_writer = csv.writer(csv_file, delimiter=',')\n",
    "        csv_writer.writerow((random_student.name, random_student.gender, random_student_coursenames, random_student_teachers, random_student_classrooms, random_student_etcs, random_student_grades, random_student.image_url))\n",
    "    \n",
    "    return random_student\n",
    "\n",
    "def list_to_csv(a_list):\n",
    "    output = \"\"\n",
    "    counter = 0\n",
    "    for element in a_list:\n",
    "        if counter == (len(a_list)-1):\n",
    "            output += str(element)\n",
    "        else:\n",
    "            output += str(element) + \";\"\n",
    "        counter += 1\n",
    "    return output\n",
    "\n",
    "def students_list_from_csv(csv_file):\n",
    "    students = []\n",
    "    \n",
    "    with open(csv_file, newline='') as file_object:\n",
    "        csv_reader = csv.reader(file_object, delimiter=',')\n",
    "        for row in csv_reader:\n",
    "            courses_obj = {'names': row[2].split(';'), 'teachers': row[3].split(';'), 'classrooms': row[4].split(';'), 'ects': row[5].split(';'), 'grades': row[6].split(';')}\n",
    "            courses = []\n",
    "            for i in range(0, len(row[2].split(';'))):\n",
    "                courses.append(Course(courses_obj.get('names')[i], courses_obj.get('classrooms')[i], courses_obj.get('teachers')[i], int(courses_obj.get('ects')[i]), int(courses_obj.get('grades')[i])))\n",
    "        \n",
    "            students.append(Student(row[0], row[1], DataSheet(courses), row[7]))\n",
    "        \n",
    "        return students\n",
    "\n",
    "def print_students(list_of_students):\n",
    "    output = []\n",
    "    for student in list_of_students:\n",
    "        output.append([student.name, student.image_url, student.get_average_grade()])\n",
    "    \n",
    "    output.sort(key=itemgetter(2), reverse=True)\n",
    "    \n",
    "    return output\n",
    "\n",
    "def students_bar_chart(print_students_list):\n",
    "    list_of_student_names = []\n",
    "    list_of_student_grades = []\n",
    "    for student in print_students_list:\n",
    "        list_of_student_names.append(student[0])\n",
    "        list_of_student_grades.append(student[2])\n",
    "    plt.bar(list_of_student_names, list_of_student_grades)\n",
    "    plt.xlabel(\"Student name\")\n",
    "    plt.ylabel(\"Average grade\")\n",
    "\n",
    "\n",
    "######## Initialization starts below #########\n",
    "\n",
    "course_1 = Course(\"Music\", \"2.E\", \"Tommy Wiseau\", 10, 12)\n",
    "course_2 = Course(\"Programming\", \"3.E\", \"Johnny Guy\", 15, 10)\n",
    "course_3 = Course(\"Language\", \"1.E\", \"Emma Madsen\", 5, 7)\n",
    "courses = [course_1, course_2, course_3]\n",
    "data_sheet = DataSheet(courses)\n",
    "student = Student(\"Danny Madsen\", \"Male\", data_sheet, \"Url here\")\n",
    "random_student = create_random_student()\n",
    "printed_students = print_students(students_list)\n",
    "print(\"Exercise 1.5:\", student.data_sheet.get_grades_as_list())\n",
    "print(\"Exercise 1.6:\", student.get_average_grade())\n",
    "print(\"Exercise 1.7:\", \"\\n\\t- Name:\", random_student.name, \"\\n\\t- Gender:\", random_student.gender, \"\\n\\t- Courses:\", random_student.data_sheet.courses, \"\\n\\t- Image url:\", random_student.image_url)\n",
    "students_list = students_list_from_csv('data/student_read.csv')\n",
    "print(\"Exercise 1.8.A/1.8.B:\", printed_students)\n",
    "print(\"Exercise 1.8.C:\", students_bar_chart(printed_students))"
   ]
  },
  {
   "cell_type": "markdown",
   "metadata": {},
   "source": [
    "## 04 Solution part 2"
   ]
  },
  {
   "cell_type": "code",
   "execution_count": 3,
   "metadata": {},
   "outputs": [],
   "source": [
    "# 2.1"
   ]
  },
  {
   "cell_type": "code",
   "execution_count": null,
   "metadata": {},
   "outputs": [],
   "source": []
  },
  {
   "cell_type": "code",
   "execution_count": null,
   "metadata": {},
   "outputs": [],
   "source": []
  }
 ],
 "metadata": {
  "kernelspec": {
   "display_name": "Python 3",
   "language": "python",
   "name": "python3"
  },
  "language_info": {
   "codemirror_mode": {
    "name": "ipython",
    "version": 3
   },
   "file_extension": ".py",
   "mimetype": "text/x-python",
   "name": "python",
   "nbconvert_exporter": "python",
   "pygments_lexer": "ipython3",
   "version": "3.7.6"
  }
 },
 "nbformat": 4,
 "nbformat_minor": 4
}
