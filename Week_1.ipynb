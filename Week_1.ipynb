{
 "cells": [
  {
   "cell_type": "markdown",
   "metadata": {},
   "source": [
    "# Week 1 handin"
   ]
  },
  {
   "cell_type": "markdown",
   "metadata": {},
   "source": [
    "## 01 Assignment\n",
    "Here is the text for the assignment linked to"
   ]
  },
  {
   "cell_type": "markdown",
   "metadata": {},
   "source": [
    "## 02 Status\n",
    "Here is a status on the handin. How far you got. What is implemented and what is not"
   ]
  },
  {
   "cell_type": "markdown",
   "metadata": {},
   "source": [
    "## 03 Solution part 1 - Create 5 list comprehensions to solve the following 5 problems:"
   ]
  },
  {
   "cell_type": "code",
   "execution_count": 1,
   "metadata": {},
   "outputs": [],
   "source": [
    "# 1.A Iterate a list of names to return a list of the names starting with H"
   ]
  },
  {
   "cell_type": "code",
   "execution_count": 2,
   "metadata": {},
   "outputs": [
    {
     "name": "stdout",
     "output_type": "stream",
     "text": [
      "['Hans', 'Holger', 'Hansi', 'Henriette']\n"
     ]
    }
   ],
   "source": [
    "names = ['John', 'Hans', 'Denny', 'Holger', 'Hansi', 'Günther', 'Anna', 'Henriette', 'Emma']\n",
    "h_letter = 'H'\n",
    "output = []\n",
    "\n",
    "for name in names:\n",
    "    if(name[0] == h_letter):\n",
    "        output.append(name)\n",
    "\n",
    "print(output)"
   ]
  },
  {
   "cell_type": "code",
   "execution_count": 3,
   "metadata": {},
   "outputs": [],
   "source": [
    "# 1.B In one line create a list of the numbers 1-100 to the power of 3"
   ]
  },
  {
   "cell_type": "code",
   "execution_count": 4,
   "metadata": {},
   "outputs": [
    {
     "name": "stdout",
     "output_type": "stream",
     "text": [
      "[1, 8, 27, 64, 125, 216, 343, 512, 729, 1000, 1331, 1728, 2197, 2744, 3375, 4096, 4913, 5832, 6859, 8000, 9261, 10648, 12167, 13824, 15625, 17576, 19683, 21952, 24389, 27000, 29791, 32768, 35937, 39304, 42875, 46656, 50653, 54872, 59319, 64000, 68921, 74088, 79507, 85184, 91125, 97336, 103823, 110592, 117649, 125000, 132651, 140608, 148877, 157464, 166375, 175616, 185193, 195112, 205379, 216000, 226981, 238328, 250047, 262144, 274625, 287496, 300763, 314432, 328509, 343000, 357911, 373248, 389017, 405224, 421875, 438976, 456533, 474552, 493039, 512000, 531441, 551368, 571787, 592704, 614125, 636056, 658503, 681472, 704969, 729000, 753571, 778688, 804357, 830584, 857375, 884736, 912673, 941192, 970299, 1000000]\n"
     ]
    }
   ],
   "source": [
    "numbers = list(num**3 for num in range(1,100+1))\n",
    "print(numbers)"
   ]
  },
  {
   "cell_type": "code",
   "execution_count": 5,
   "metadata": {},
   "outputs": [],
   "source": [
    "# 1.C Iterate a list of names to create a list of tuples where the tuples first value is the length of the name and the second is the name"
   ]
  },
  {
   "cell_type": "code",
   "execution_count": 6,
   "metadata": {},
   "outputs": [
    {
     "name": "stdout",
     "output_type": "stream",
     "text": [
      "(4, 'John', 4, 'Hans', 5, 'Denny', 6, 'Holger', 5, 'Hansi', 7, 'Günther', 4, 'Anna', 9, 'Henriette', 4, 'Emma')\n"
     ]
    }
   ],
   "source": [
    "names = ['John', 'Hans', 'Denny', 'Holger', 'Hansi', 'Günther', 'Anna', 'Henriette', 'Emma']\n",
    "names_and_lengths = []\n",
    "\n",
    "for name in names:\n",
    "    names_and_lengths.append(len(name))\n",
    "    names_and_lengths.append(name)\n",
    "\n",
    "output = tuple(names_and_lengths)\n",
    "print(output)"
   ]
  },
  {
   "cell_type": "code",
   "execution_count": 7,
   "metadata": {},
   "outputs": [],
   "source": [
    "# 1.D Iterate over each character in a string and get only those that are nummeric"
   ]
  },
  {
   "cell_type": "code",
   "execution_count": 8,
   "metadata": {},
   "outputs": [
    {
     "name": "stdout",
     "output_type": "stream",
     "text": [
      "['3', '4', '0', '3', '3', '2', '3']\n"
     ]
    }
   ],
   "source": [
    "long_string = 'hab3b403bkklfk3b2obifb3'\n",
    "long_string_numerics = []\n",
    "\n",
    "for character in long_string:\n",
    "    if(character.isnumeric()):\n",
    "        long_string_numerics.append(character)\n",
    "\n",
    "print(long_string_numerics)"
   ]
  },
  {
   "cell_type": "code",
   "execution_count": 9,
   "metadata": {},
   "outputs": [],
   "source": [
    "# 1.E Using only a list comprehension wrapped in set() get all possible combination from throwing 2 dice (hint use 2 for loops in a single list comprehension)"
   ]
  },
  {
   "cell_type": "code",
   "execution_count": 10,
   "metadata": {},
   "outputs": [
    {
     "name": "stdout",
     "output_type": "stream",
     "text": [
      "{1: '1', 2: '2', 3: '3', 4: '4', 5: '5', 6: '6'}\n"
     ]
    }
   ],
   "source": [
    "dice_1 = {1, 2, 3, 4, 5, 6}\n",
    "dice_2 = {1, 2, 3, 4, 5, 6}\n",
    "two_dice = [dice_1, dice_2]\n",
    "combinations = {}\n",
    "\n",
    "for combination in range(len(dice_1)*len(dice_2)+1):\n",
    "    for num in dice_1:\n",
    "        combinations[num] = str(num)\n",
    "\n",
    "print(combinations)"
   ]
  },
  {
   "cell_type": "markdown",
   "metadata": {},
   "source": [
    "## 04 Solution part 2 - Create 2 dictionary comprehensions to solve the following:"
   ]
  },
  {
   "cell_type": "code",
   "execution_count": 11,
   "metadata": {},
   "outputs": [],
   "source": [
    "# 2.A Iterate a list of names and create a dictionary where key is the name and value is the length of the name"
   ]
  },
  {
   "cell_type": "code",
   "execution_count": 12,
   "metadata": {},
   "outputs": [
    {
     "name": "stdout",
     "output_type": "stream",
     "text": [
      "{'John': 4, 'Hans': 4, 'Denny': 5, 'Holger': 6, 'Hansi': 5, 'Günther': 7, 'Anna': 4, 'Henriette': 9, 'Emma': 4}\n"
     ]
    }
   ],
   "source": [
    "names = ['John', 'Hans', 'Denny', 'Holger', 'Hansi', 'Günther', 'Anna', 'Henriette', 'Emma']\n",
    "names_dict = dict()\n",
    "\n",
    "for name in names:\n",
    "    names_dict[name] = len(name)\n",
    "\n",
    "print(names_dict)"
   ]
  },
  {
   "cell_type": "code",
   "execution_count": 13,
   "metadata": {},
   "outputs": [],
   "source": [
    "# 2.B Iterate a list of numbers and create a dictionary with {key:value} being {number:squareroot_of_number}"
   ]
  },
  {
   "cell_type": "code",
   "execution_count": 16,
   "metadata": {},
   "outputs": [
    {
     "name": "stdout",
     "output_type": "stream",
     "text": [
      "{32: 5.656854249492381, 142: 11.916375287812984, 241: 15.524174696260024, 23: 4.795831523312719, 16: 4.0, 25: 5.0, 543: 23.302360395462088, 654: 25.573423705088842, 987: 31.416556144810016, 765: 27.65863337187866, 432: 20.784609690826528, 132: 11.489125293076057}\n"
     ]
    }
   ],
   "source": [
    "import math\n",
    "\n",
    "numbers = [32, 142, 241, 23, 16, 23, 25, 543, 654, 987, 765, 432, 132]\n",
    "numbers_dict = dict()\n",
    "\n",
    "for number in numbers:\n",
    "    numbers_dict[number] = math.sqrt(number)\n",
    "\n",
    "print(numbers_dict)"
   ]
  }
 ],
 "metadata": {
  "kernelspec": {
   "display_name": "Python 3",
   "language": "python",
   "name": "python3"
  },
  "language_info": {
   "codemirror_mode": {
    "name": "ipython",
    "version": 3
   },
   "file_extension": ".py",
   "mimetype": "text/x-python",
   "name": "python",
   "nbconvert_exporter": "python",
   "pygments_lexer": "ipython3",
   "version": "3.7.6"
  }
 },
 "nbformat": 4,
 "nbformat_minor": 4
}
