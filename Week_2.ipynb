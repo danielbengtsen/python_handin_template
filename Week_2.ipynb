{
 "cells": [
  {
   "cell_type": "markdown",
   "metadata": {},
   "source": [
    "# Week 2 handin"
   ]
  },
  {
   "cell_type": "markdown",
   "metadata": {},
   "source": [
    "## Assignment\n",
    "\n",
    "## Exercise 1\n",
    "1. Create a python file with 3 functions:\n",
    "  1. `def print_file_content(file)` that can print content of a csv file to the console\n",
    "  2. `def write_list_to_file(output_file, lst)` that can take a list of tuple and write each element to a new line in file\n",
    "    1. rewrite the function so that it gets an arbitrary number of strings instead of a list\n",
    "  3. `def read_csv(input_file)` that take a csv file and read each row into a list\n",
    "2. Add a functionality so that the file can be called from cli with 2 arguments\n",
    "  1. path to csv file\n",
    "  2. an argument `--file file_name` that if given will write the content to file_name or otherwise will print it to the console.\n",
    "3. Add a --help cli argument to describe how the module is used  \n",
    "\n",
    "## Exercise 2\n",
    "Create a module called utils.py with the following 5 functions:\n",
    "\n",
    "```python\n",
    "def get_file_names(folderpath,out=output.txt):\n",
    "    \"\"\" takes a path to a folder and writes all filenames in the folder to a specified output file\"\"\"\n",
    "\n",
    "def get_all_file_names(folderpath,out=output.txt):\n",
    "    \"\"\"takes a path to a folder and write all filenames recursively (files of all sub folders to)\"\"\"\n",
    "\n",
    "def print_line_one(file_names):\n",
    "    \"\"\"takes a list of filenames and print the first line of each\"\"\"\n",
    "\n",
    "def print_emails(file_names):\n",
    "    \"\"\"takes a list of filenames and print each line that contains an email (just look for @)\"\"\"\n",
    "\n",
    "def write_headlines(md_files, out=output.txt):\n",
    "    \"\"\"takes a list of md files and writes all headlines (lines starting with #) to a file\"\"\"\n",
    "\n",
    "```\n",
    "Make sure your module can be called both from cli and imported to another module\n",
    "Create a new module that imports utils.py and test each function."
   ]
  },
  {
   "cell_type": "markdown",
   "metadata": {},
   "source": [
    "## Status\n"
   ]
  },
  {
   "cell_type": "markdown",
   "metadata": {},
   "source": [
    "## Solution part 1"
   ]
  },
  {
   "cell_type": "code",
   "execution_count": 1,
   "metadata": {},
   "outputs": [],
   "source": [
    "# Exercise 1.1 - Create a python file with 3 functions:"
   ]
  },
  {
   "cell_type": "code",
   "execution_count": 2,
   "metadata": {},
   "outputs": [],
   "source": [
    "# Exercise 1.1.A - def print_file_content(file) that can print content of a csv file to the console"
   ]
  },
  {
   "cell_type": "code",
   "execution_count": 3,
   "metadata": {},
   "outputs": [
    {
     "name": "stdout",
     "output_type": "stream",
     "text": [
      "Row 1: ['John', 'Doe', '120 jefferson st.', 'Riverside', ' NJ', ' 08075']\n",
      "Row 2: ['Jack', 'McGinnis', '220 hobo Av.', 'Phila', ' PA', '09119']\n",
      "Row 3: ['John \"Da Man\"', 'Repici', '120 Jefferson St.', 'Riverside', ' NJ', '08075']\n",
      "Row 4: ['Stephen', 'Tyler', '7452 Terrace \"At the Plaza\" road', 'SomeTown', 'SD', ' 91234']\n",
      "Row 5: ['', 'Blankman', '', 'SomeTown', ' SD', ' 00298']\n",
      "Row 6: ['Joan \"the bone\", Anne', 'Jet', '9th, at Terrace plc', 'Desert City', 'CO', '00123']\n"
     ]
    }
   ],
   "source": [
    "import csv\n",
    "\n",
    "def print_file_content(file):\n",
    "    with open(file) as f:\n",
    "        reader = csv.reader(f)\n",
    "        row_count = 1\n",
    "        for line in reader:\n",
    "            print(\"Row \" + str(row_count) + \":\", line)\n",
    "            row_count += 1\n",
    "\n",
    "file = 'data/addresses.csv'\n",
    "print_file_content(file)"
   ]
  },
  {
   "cell_type": "code",
   "execution_count": 4,
   "metadata": {},
   "outputs": [],
   "source": [
    "# Exercise 1.1.B - def write_list_to_file(output_file, lst) that can take a list of tuple and write each element \n",
    "# to a new line in file"
   ]
  },
  {
   "cell_type": "code",
   "execution_count": 5,
   "metadata": {},
   "outputs": [
    {
     "name": "stdout",
     "output_type": "stream",
     "text": [
      "All done!\n",
      "\n",
      "------------------------\n",
      "\n",
      "Heya\n",
      "Hello\n",
      "Whatup\n",
      "Cool\n",
      "Nice\n",
      "Fine\n",
      "Wrong\n",
      "Not right\n",
      "No\n",
      "\n"
     ]
    }
   ],
   "source": [
    "def write_list_to_file(output_file, lst):\n",
    "    try:\n",
    "        content = \"\"\n",
    "        for list_element in lst:\n",
    "            for tuple_element in list_element:\n",
    "                content += tuple_element + \"\\n\"\n",
    "        \n",
    "        with open(output_file, 'w') as to_file_object:\n",
    "            to_file_object.write(content)\n",
    "        \n",
    "        return 'All done!'\n",
    "    except:\n",
    "        return 'Something went wrong!'\n",
    "\n",
    "output_file = 'data/write_list_to_file.txt'\n",
    "list_of_tuple = [(\"Heya\", \"Hello\", \"Whatup\"), (\"Cool\", \"Nice\", \"Fine\"), (\"Wrong\", \"Not right\", \"No\")]\n",
    "print(write_list_to_file(output_file, list_of_tuple))\n",
    "\n",
    "# Read file content\n",
    "def read_file(output_file=output_file):\n",
    "    with open(output_file,'r') as file_object:\n",
    "        lines = file_object.readlines()\n",
    "    result = \"\"\n",
    "    for line in lines:\n",
    "        result += line\n",
    "    return result\n",
    "\n",
    "print(\"\\n------------------------\\n\")\n",
    "print(read_file())"
   ]
  },
  {
   "cell_type": "code",
   "execution_count": 6,
   "metadata": {},
   "outputs": [],
   "source": [
    "# Exercise 1.1.B.a - rewrite the function so that it gets an arbitrary number of strings instead of a list"
   ]
  },
  {
   "cell_type": "code",
   "execution_count": 7,
   "metadata": {},
   "outputs": [
    {
     "name": "stdout",
     "output_type": "stream",
     "text": [
      "All done!\n",
      "\n",
      "------------------------\n",
      "\n",
      "Here\n",
      "are\n",
      "alot\n",
      "of\n",
      "different\n",
      "strings\n",
      "\n"
     ]
    }
   ],
   "source": [
    "def write_list_to_file_2(output_file, *strings):\n",
    "    try:\n",
    "        content = \"\"\n",
    "        for element in strings:\n",
    "            content += element + \"\\n\"\n",
    "        \n",
    "        with open(output_file, 'w') as to_file_object:\n",
    "            to_file_object.write(content)\n",
    "        \n",
    "        return 'All done!'\n",
    "    except:\n",
    "        return 'Something went wrong!'\n",
    "\n",
    "output_file = 'data/write_list_to_file_2.txt'\n",
    "print(write_list_to_file_2(output_file, \"Here\", \"are\", \"alot\", \"of\", \"different\", \"strings\"))\n",
    "\n",
    "# Read file content\n",
    "def read_file(output_file=output_file):\n",
    "    with open(output_file,'r') as file_object:\n",
    "        lines = file_object.readlines()\n",
    "    result = \"\"\n",
    "    for line in lines:\n",
    "        result += line\n",
    "    return result\n",
    "\n",
    "print(\"\\n------------------------\\n\")\n",
    "print(read_file())"
   ]
  },
  {
   "cell_type": "code",
   "execution_count": null,
   "metadata": {},
   "outputs": [],
   "source": [
    "# Exercise 1.1.C - def read_csv(input_file) that take a csv file and read each row into a list"
   ]
  },
  {
   "cell_type": "code",
   "execution_count": 26,
   "metadata": {},
   "outputs": [
    {
     "name": "stdout",
     "output_type": "stream",
     "text": [
      "['John,Doe,120 jefferson st.,Riverside, NJ, 08075,', 'Jack,McGinnis,220 hobo Av.,Phila, PA,09119,', 'John \"Da Man\",Repici,120 Jefferson St.,Riverside, NJ,08075,', 'Stephen,Tyler,7452 Terrace \"At the Plaza\" road,SomeTown,SD, 91234,', ',Blankman,,SomeTown, SD, 00298,', 'Joan \"the bone\", Anne,Jet,9th, at Terrace plc,Desert City,CO,00123,']\n"
     ]
    }
   ],
   "source": [
    "import csv\n",
    "\n",
    "def read_csv(input_file):\n",
    "    output_list = []\n",
    "    \n",
    "    with open(input_file) as file:\n",
    "        reader = csv.reader(file)\n",
    "        \n",
    "        for line in reader:\n",
    "            a_line = \"\"\n",
    "            for row in line:\n",
    "                a_line += row + \",\"\n",
    "            output_list.append(a_line)\n",
    "    \n",
    "    return output_list\n",
    "\n",
    "input_file = 'data/addresses.csv'\n",
    "print(read_csv(input_file))"
   ]
  },
  {
   "cell_type": "code",
   "execution_count": null,
   "metadata": {},
   "outputs": [],
   "source": [
    "# Exercise 1.2 - Add a functionality so that the file can be called from cli with 2 arguments"
   ]
  },
  {
   "cell_type": "code",
   "execution_count": null,
   "metadata": {},
   "outputs": [],
   "source": [
    "# Exercise 1.2.A - path to csv file\n",
    "\n",
    "# Exercise 1.2.B - an argument --file file_name that if given will write the content to file_name or otherwise will print \n",
    "# it to the console."
   ]
  },
  {
   "cell_type": "markdown",
   "metadata": {},
   "source": [
    "#### Exercise 1.2 (inkl. 1.2.A & 1.2.B) kan findes i \"python_handling_template/modules/read_and_paste_file.py\"\n",
    "\n",
    "#### Exercise 1.3 not done."
   ]
  },
  {
   "cell_type": "code",
   "execution_count": 13,
   "metadata": {},
   "outputs": [],
   "source": [
    "# Exercise 1.3 - Add a --help cli argument to describe how the module is used"
   ]
  },
  {
   "cell_type": "markdown",
   "metadata": {},
   "source": [
    "## Solution part 2"
   ]
  },
  {
   "cell_type": "code",
   "execution_count": 14,
   "metadata": {},
   "outputs": [],
   "source": [
    "# Exercise 2"
   ]
  },
  {
   "cell_type": "markdown",
   "metadata": {},
   "source": [
    "Create a module called utils.py with the following 5 functions:\n",
    "\n",
    "```python\n",
    "def get_file_names(folderpath,out=output.txt):\n",
    "    \"\"\" takes a path to a folder and writes all filenames in the folder to a specified output file\"\"\"\n",
    "\n",
    "def get_all_file_names(folderpath,out=output.txt):\n",
    "    \"\"\"takes a path to a folder and write all filenames recursively (files of all sub folders to)\"\"\"\n",
    "\n",
    "def print_line_one(file_names):\n",
    "    \"\"\"takes a list of filenames and print the first line of each\"\"\"\n",
    "\n",
    "def print_emails(file_names):\n",
    "    \"\"\"takes a list of filenames and print each line that contains an email (just look for @)\"\"\"\n",
    "\n",
    "def write_headlines(md_files, out=output.txt):\n",
    "    \"\"\"takes a list of md files and writes all headlines (lines starting with #) to a file\"\"\"\n",
    "\n",
    "```\n",
    "Make sure your module can be called both from cli and imported to another module\n",
    "Create a new module that imports utils.py and test each function."
   ]
  },
  {
   "cell_type": "code",
   "execution_count": null,
   "metadata": {},
   "outputs": [],
   "source": []
  }
 ],
 "metadata": {
  "kernelspec": {
   "display_name": "Python 3",
   "language": "python",
   "name": "python3"
  },
  "language_info": {
   "codemirror_mode": {
    "name": "ipython",
    "version": 3
   },
   "file_extension": ".py",
   "mimetype": "text/x-python",
   "name": "python",
   "nbconvert_exporter": "python",
   "pygments_lexer": "ipython3",
   "version": "3.7.6"
  }
 },
 "nbformat": 4,
 "nbformat_minor": 4
}
